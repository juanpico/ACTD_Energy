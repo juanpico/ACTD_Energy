version https://git-lfs.github.com/spec/v1
oid sha256:c2818b654a0920ac45727250ce208112ffcc5e2e35f63ed37367ced24475bd23
size 245859
